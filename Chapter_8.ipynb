{
 "cells": [
  {
   "cell_type": "code",
   "execution_count": 47,
   "metadata": {},
   "outputs": [],
   "source": [
    "import numpy as np\n",
    "import pandas as pd\n",
    "import patsy\n",
    "import matplotlib.pyplot as plt\n",
    "from scipy import stats\n",
    "from statsmodels.formula.api import ols\n",
    "from statsmodels.stats.anova import anova_lm\n",
    "from statsmodels.stats import multicomp"
   ]
  },
  {
   "cell_type": "code",
   "execution_count": 67,
   "metadata": {},
   "outputs": [
    {
     "name": "stdout",
     "output_type": "stream",
     "text": [
      "p_ttest = 0.018, and p_wilcoxon = 0.024, both of which are < 0.05, so there is a significant difference.\n"
     ]
    }
   ],
   "source": [
    "# Paired t-Test and Wilcoxon signed rank sum test\n",
    "\n",
    "# The daily energy intake from 11 healthy women is [5260., 5470., 5640., 6180.,\n",
    "# 6390., 6515., 6805., 7515., 7515., 8230., 8770.] kJ.\n",
    "# Is this value significantly different from the recommended value of 7725?\n",
    "\n",
    "val = 7725\n",
    "data = np.array([5260, 5470, 5640, 6180, 6390, 6515, 6805, 7515, 7515, 8230, 8770])\n",
    "\n",
    "# 1-sample t-test\n",
    "t, p_ttest = stats.ttest_1samp(data, val)\n",
    "rank, p_wilcoxon = stats.wilcoxon(data-val)\n",
    "\n",
    "print(f\"p_ttest = {p_ttest:.3f}, and p_wilcoxon = {p_wilcoxon:.3f}, both of which are < 0.05, so there is a significant difference.\")\n"
   ]
  },
  {
   "cell_type": "code",
   "execution_count": 68,
   "metadata": {},
   "outputs": [
    {
     "name": "stdout",
     "output_type": "stream",
     "text": [
      "p_val = 0.045, which is < 0.05, so there is a significant difference.\n"
     ]
    }
   ],
   "source": [
    "# t-Test of independent samples\n",
    "\n",
    "# In a clinic, 15 lazy patients weigh [76, 101, 66, 72, 88, 82, 79, 73, 76, 85, 75, 64,\n",
    "# 76, 81, 86.] kg, and 15 sporty patients weigh [ 64, 65, 56, 62, 59, 76, 66, 82, 91,\n",
    "# 57, 92, 80, 82, 67, 54] kg.\n",
    "# Are the lazy patients significantly heavier?\n",
    "\n",
    "data1 = np.array([76, 101, 66, 72, 88, 82, 79, 73, 76, 85, 75, 64, 76, 81, 86])\n",
    "data2 = np.array([64, 65, 56, 62, 59, 76, 66, 82, 91, 57, 92, 80, 82, 67, 54])\n",
    "\n",
    "t_stat, p_val = stats.ttest_ind(data1, data2)\n",
    "p_val\n",
    "\n",
    "print(f\"p_val = {p_val:.3f}, which is < 0.05, so there is a significant difference.\")\n",
    "\n"
   ]
  },
  {
   "cell_type": "code",
   "execution_count": 69,
   "metadata": {},
   "outputs": [
    {
     "name": "stdout",
     "output_type": "stream",
     "text": [
      "Data in data1 are distributed normally, p = 0.19204806032435315\n",
      "Data in data2 are distributed normally, p = 0.34678775457262334\n"
     ]
    },
    {
     "name": "stderr",
     "output_type": "stream",
     "text": [
      "c:\\Users\\rich\\miniconda3\\envs\\pydata-book\\lib\\site-packages\\scipy\\stats\\_stats_py.py:1736: UserWarning: kurtosistest only valid for n>=20 ... continuing anyway, n=15\n",
      "  warnings.warn(\"kurtosistest only valid for n>=20 ... continuing \"\n"
     ]
    }
   ],
   "source": [
    "# Normality test\n",
    "\n",
    "# Are the two data sets normally distributed?\n",
    "\n",
    "for dataset_name, dataset in [(\"data1\", data1), (\"data2\", data2)]:\n",
    "    (_, p) = stats.normaltest(dataset)\n",
    "    if p > 0.05:\n",
    "        a = \" \"\n",
    "    else:\n",
    "        a = \" not \"\n",
    "    print(f'Data in {dataset_name} are{a}distributed normally, p = {p}')\n"
   ]
  },
  {
   "cell_type": "code",
   "execution_count": 70,
   "metadata": {},
   "outputs": [
    {
     "name": "stdout",
     "output_type": "stream",
     "text": [
      "With this test, p_val = 0.077, which is > 0.05, so there is no significant difference, i.e. lazy patients are not heavier.\n"
     ]
    }
   ],
   "source": [
    "# Mann–Whitney test\n",
    "\n",
    "# Are the lazy patients still heavier, if you check with the Mann–Whitney test?\n",
    "\n",
    "u, p_val = stats.mannwhitneyu(data1, data2)\n",
    "print(f\"With this test, p_val = {p_val:5.3f}, which is > 0.05, so there is no significant difference, i.e. lazy patients are not heavier.\")"
   ]
  },
  {
   "cell_type": "code",
   "execution_count": 71,
   "metadata": {},
   "outputs": [],
   "source": [
    "# The following example is taken from the really good, but somewhat advanced book\n",
    "# by A.J. Dobson: “An Introduction to Generalized Linear Models”:\n",
    "\n",
    "# The file Data/data_others/Table 6.6 Plant experiment.xls, which can also\n",
    "# be found on https://github.com/thomas-haslwanter/statsintro/tree/master/Data/\n",
    "# data_others, contains data from an experiment with plants in three different\n",
    "# growing conditions. Read the data into Python. Hint: use the module xlrd."
   ]
  },
  {
   "cell_type": "code",
   "execution_count": 72,
   "metadata": {},
   "outputs": [],
   "source": [
    "# Perform an ANOVA\n",
    "\n",
    "# Are the three groups different?\n",
    "\n",
    "excel_file_path = \"data/plant_experiment.xls\"\n",
    "\n",
    "# Read the Excel file into a pandas DataFrame\n",
    "df = pd.read_excel(excel_file_path, header=2, usecols=['group', 'weight'])\n",
    "\n"
   ]
  },
  {
   "cell_type": "code",
   "execution_count": 74,
   "metadata": {},
   "outputs": [],
   "source": [
    "# Let's fit a statistical \"ordinary least square (ols)\" model to the data.\n",
    "# In the formula 'weight ~ C(group)', \"weight\" is a function of the categorical \n",
    "# value \"group\".\n",
    "\n",
    "results = ols('weight ~ C(group)', df).fit()"
   ]
  },
  {
   "cell_type": "code",
   "execution_count": 75,
   "metadata": {},
   "outputs": [
    {
     "name": "stdout",
     "output_type": "stream",
     "text": [
      "            df    sum_sq   mean_sq         F   PR(>F)\n",
      "C(group)   2.0   3.76634  1.883170  4.846088  0.01591\n",
      "Residual  27.0  10.49209  0.388596       NaN      NaN\n"
     ]
    }
   ],
   "source": [
    "# Peform the ANOVA:\n",
    "anovaResults = anova_lm(results)\n",
    "print(anovaResults)\n",
    "    \n",
    "# Because the probability of achieving this F-score under the null hypothesis\n",
    "# of the samples is equal is < 0.05, we reject the null hypothesis."
   ]
  },
  {
   "cell_type": "code",
   "execution_count": 76,
   "metadata": {},
   "outputs": [],
   "source": [
    "# Multiple Comparisons\n",
    "\n",
    "# Using the Tukey test, which of the pairs are different?\n",
    "\n",
    "mc = multicomp.MultiComparison(df['weight'], df['group'])"
   ]
  },
  {
   "cell_type": "code",
   "execution_count": 77,
   "metadata": {},
   "outputs": [
    {
     "data": {
      "text/html": [
       "<table class=\"simpletable\">\n",
       "<caption>Multiple Comparison of Means - Tukey HSD, FWER=0.05</caption>\n",
       "<tr>\n",
       "    <th>group1</th>     <th>group2</th>   <th>meandiff</th>  <th>p-adj</th>  <th>lower</th>   <th>upper</th> <th>reject</th>\n",
       "</tr>\n",
       "<tr>\n",
       "    <td>Control</td>  <td>TreatmentA</td>  <td>-0.371</td>  <td>0.3909</td> <td>-1.0622</td> <td>0.3202</td>  <td>False</td>\n",
       "</tr>\n",
       "<tr>\n",
       "    <td>Control</td>  <td>TreatmentB</td>   <td>0.494</td>   <td>0.198</td> <td>-0.1972</td> <td>1.1852</td>  <td>False</td>\n",
       "</tr>\n",
       "<tr>\n",
       "  <td>TreatmentA</td> <td>TreatmentB</td>   <td>0.865</td>   <td>0.012</td> <td>0.1738</td>  <td>1.5562</td>  <td>True</td> \n",
       "</tr>\n",
       "</table>"
      ],
      "text/latex": [
       "\\begin{center}\n",
       "\\begin{tabular}{ccccccc}\n",
       "\\toprule\n",
       "\\textbf{group1} & \\textbf{group2} & \\textbf{meandiff} & \\textbf{p-adj} & \\textbf{lower} & \\textbf{upper} & \\textbf{reject}  \\\\\n",
       "\\midrule\n",
       "    Control     &    TreatmentA   &       -0.371      &     0.3909     &    -1.0622     &     0.3202     &      False       \\\\\n",
       "    Control     &    TreatmentB   &       0.494       &     0.198      &    -0.1972     &     1.1852     &      False       \\\\\n",
       "   TreatmentA   &    TreatmentB   &       0.865       &     0.012      &     0.1738     &     1.5562     &       True       \\\\\n",
       "\\bottomrule\n",
       "\\end{tabular}\n",
       "%\\caption{Multiple Comparison of Means - Tukey HSD, FWER=0.05}\n",
       "\\end{center}"
      ],
      "text/plain": [
       "<class 'statsmodels.iolib.table.SimpleTable'>"
      ]
     },
     "execution_count": 77,
     "metadata": {},
     "output_type": "execute_result"
    }
   ],
   "source": [
    "# Conduct Tukey Honest Significance Test (HSD) on the multicomparison,\n",
    "# using default alpha=0.05\n",
    "\n",
    "tukey = mc.tukeyhsd()\n",
    "tukey.summary()\n",
    "\n",
    "# TreatmentA-TreatmentB pair is the only one with p-value < 0.05,\n",
    "# so we reject the null hypothesis and say Treatment A and Treatment B differ."
   ]
  },
  {
   "cell_type": "code",
   "execution_count": 79,
   "metadata": {},
   "outputs": [
    {
     "name": "stdout",
     "output_type": "stream",
     "text": [
      "Result from Kruskal-Wallis test: p = 0.018423755731471966\n"
     ]
    }
   ],
   "source": [
    "# Kruskal–Wallis\n",
    "\n",
    "# Would a nonparametric comparison lead to a different result?\n",
    "\n",
    "group_a = df['weight'][df['group']=='TreatmentA']\n",
    "group_b = df['weight'][df['group']=='TreatmentB']\n",
    "group_c = df['weight'][df['group']=='Control']\n",
    "\n",
    "# do Kruskal-Wallis test\n",
    "h, p = stats.kruskal(group_c, group_a, group_b)\n",
    "print(f'Result from Kruskal-Wallis test: p = {p}')\n",
    "\n",
    "# p < 0.05, so we reject the null hypothesis that the median of all groups are equal.\n",
    "# Note that rejecting the null hypothesis does not indicate which group(s) differ."
   ]
  },
  {
   "cell_type": "code",
   "execution_count": null,
   "metadata": {},
   "outputs": [],
   "source": []
  }
 ],
 "metadata": {
  "kernelspec": {
   "display_name": "pydata-book",
   "language": "python",
   "name": "python3"
  },
  "language_info": {
   "codemirror_mode": {
    "name": "ipython",
    "version": 3
   },
   "file_extension": ".py",
   "mimetype": "text/x-python",
   "name": "python",
   "nbconvert_exporter": "python",
   "pygments_lexer": "ipython3",
   "version": "3.10.10"
  },
  "orig_nbformat": 4
 },
 "nbformat": 4,
 "nbformat_minor": 2
}
