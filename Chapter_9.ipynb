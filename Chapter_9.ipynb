{
 "cells": [
  {
   "cell_type": "code",
   "execution_count": 46,
   "metadata": {},
   "outputs": [],
   "source": [
    "import numpy as np\n",
    "from scipy import stats\n",
    "from matplotlib import pyplot as plt\n",
    "from statsmodels.sandbox.stats.runs import mcnemar"
   ]
  },
  {
   "cell_type": "code",
   "execution_count": 11,
   "metadata": {},
   "outputs": [],
   "source": [
    "# 9.1 Fisher's Exact Test: The Tea Experiment\n",
    "\n",
    "# At a party, a lady claimed to be able to tell whether the tea or the milk was added\n",
    "# first to a cup. Fisher proposed to give her eight cups, four of each variety, in random\n",
    "# order. One could then ask what the probability was for her getting the number she\n",
    "# got correct, but just by chance.\n",
    "\n",
    "# The experiment provided the Lady with eight randomly ordered cups of tea—\n",
    "# four prepared by first adding milk, four prepared by first adding the tea. She was to\n",
    "# select the four cups prepared by one method. (This offered the Lady the advantage\n",
    "# of judging cups by comparison.)\n",
    "\n",
    "# The null hypothesis was that the Lady had no such ability. (In the real, historical\n",
    "# experiment, the lady got all eight cups correct.)\n",
    "\n",
    "# Calculate if the claim of the Lady is supported if she gets three out of the four\n",
    "# pairs correct."
   ]
  },
  {
   "cell_type": "code",
   "execution_count": 7,
   "metadata": {},
   "outputs": [],
   "source": [
    "# The hypergeometric distribution models drawing objects from a bin.\n",
    "# M - total number of cups of tea\n",
    "# n - number of cups of tea with milk poured first\n",
    "# N - number of cups of tea that the lady chooses\n",
    "M, n, N = 8, 4, 4\n",
    "hd = stats.hypergeom(M, n, N)\n",
    "x = np.arange(0, N+1)\n",
    "pmf_tea = hd.pmf(x)"
   ]
  },
  {
   "cell_type": "code",
   "execution_count": 10,
   "metadata": {},
   "outputs": [
    {
     "data": {
      "image/png": "[encoded data removed]",
      "text/plain": [
       "<Figure size 640x480 with 1 Axes>"
      ]
     },
     "metadata": {},
     "output_type": "display_data"
    }
   ],
   "source": [
    "fig = plt.figure()\n",
    "ax = fig.add_subplot(111)\n",
    "ax.plot(x, pmf_tea, 'bo')\n",
    "ax.vlines(x, 0, pmf_tea, lw=2)\n",
    "ax.set_xlabel('# of cups of tea called correctly')\n",
    "ax.set_ylabel('hypergeom PMF')\n",
    "plt.show()"
   ]
  },
  {
   "cell_type": "code",
   "execution_count": 17,
   "metadata": {},
   "outputs": [
    {
     "name": "stdout",
     "output_type": "stream",
     "text": [
      "Probability of getting 3 or more cups correct is 0.24, which is greater than 0.05, so we retain the null hypothesis that the lady has no special ability.\n"
     ]
    }
   ],
   "source": [
    "# We're interested in the probability that she gets three or greater correctly if she\n",
    "# selects at random, which is:\n",
    "p_correct = hd.pmf(3) + hd.pmf(4)\n",
    "print(f\"Probability of getting 3 or more cups correct is {p_correct:.2f}, which is greater than 0.05, so we retain the null hypothesis that the lady has no special ability.\")"
   ]
  },
  {
   "cell_type": "code",
   "execution_count": 23,
   "metadata": {},
   "outputs": [],
   "source": [
    "# 9.2 Chi2 Contingency Test (1 DOF)\n",
    "\n",
    "# A test of the effect of a new drug on the heart rate has yielded the following results.\n",
    "\n",
    "# Does the drug affect the heart rate?\n",
    "# What would be the result if the response of one of the not-treated persons would\n",
    "# have been different? Perform this test with and without the Yates-correction."
   ]
  },
  {
   "attachments": {},
   "cell_type": "markdown",
   "metadata": {},
   "source": [
    "|             | Heart rate |               |       |\n",
    "|-------------|------------|---------------|-------|\n",
    "|             | Increased  | Not-increased | Total |\n",
    "| Treated     | 36         | 14            | 40    |\n",
    "| Not treated | 30         | 25            | 55    |\n",
    "| Total       | 66         | 39            | 105   |"
   ]
  },
  {
   "cell_type": "code",
   "execution_count": 22,
   "metadata": {},
   "outputs": [
    {
     "name": "stdout",
     "output_type": "stream",
     "text": [
      "p = 0.10 which is greater than 0.05, so columns are not contingent on rows, i.e. no effect of drug on heart rate.\n"
     ]
    }
   ],
   "source": [
    "data = np.array([[36, 14], [30, 25]])\n",
    "V, p, dof, expected = stats.chi2_contingency(data)\n",
    "print(f\"p = {p:.2f} which is greater than 0.05, so columns are not contingent on rows, i.e. no effect of drug on heart rate.\")"
   ]
  },
  {
   "cell_type": "code",
   "execution_count": 34,
   "metadata": {},
   "outputs": [
    {
     "name": "stdout",
     "output_type": "stream",
     "text": [
      "p2 = 0.04, and p2_yates = 0.07\n"
     ]
    }
   ],
   "source": [
    "# The Yates correction is applied to mitigate the tendency of the chi-square test to overestimate \n",
    "# the significance of the association when the sample size is small. \n",
    "# It is used to reduce the likelihood of type I errors (false positives) by slightly downplaying\n",
    "# the test's sensitivity.\n",
    "\n",
    "data2 = np.array([[36, 14], [29, 26]])\n",
    "_, p2, _, _ = stats.chi2_contingency(data2, correction=False)\n",
    "_, p2_yates, _, _ = stats.chi2_contingency(data2, correction=True)\n",
    "print(f\"p2 = {p2:.2f}, and p2_yates = {p2_yates:.2f}\")"
   ]
  },
  {
   "cell_type": "code",
   "execution_count": 35,
   "metadata": {},
   "outputs": [],
   "source": [
    "# 9.3 One Way Chi2-Test\n",
    "\n",
    "# The city of Linz wants to know if people want to build a long beach along the\n",
    "# Danube. They interview local people, and decide to collect 20 responses from each\n",
    "# of the five age groups: (<15, 15–30, 30–45, 45–60, >60)\n",
    "# The questionnaire states: “A beach-side development will benefit Linz.” and the\n",
    "# possible answers are:"
   ]
  },
  {
   "attachments": {},
   "cell_type": "markdown",
   "metadata": {},
   "source": [
    "| 1              | 2     | 3        | 4                 |\n",
    "|----------------|-------|----------|-------------------|\n",
    "| Strongly agree | Agree | Disagree | Strongly disagree |"
   ]
  },
  {
   "cell_type": "code",
   "execution_count": 37,
   "metadata": {},
   "outputs": [],
   "source": [
    "# The city council wants to find out if the age of people influenced feelings about\n",
    "# the development, particularly of those who felt negatively (i.e., “disagreed” or\n",
    "# “strongly disagreed”) about the planned development."
   ]
  },
  {
   "attachments": {},
   "cell_type": "markdown",
   "metadata": {},
   "source": [
    "| Age group | Frequency of negative responses |\n",
    "|-----------|---------------------------------|\n",
    "| <15       | 4                               |\n",
    "| 15-30     | 6                               |\n",
    "| 30-45     | 14                              |\n",
    "| 45-60     | 10                              |\n",
    "| >60       | 16                              |"
   ]
  },
  {
   "cell_type": "code",
   "execution_count": 45,
   "metadata": {},
   "outputs": [
    {
     "name": "stdout",
     "output_type": "stream",
     "text": [
      "p= 0.03 which is less than 0.05, so the differences are statistically significant.\n",
      "Resulting analysis has 4 dof.\n"
     ]
    }
   ],
   "source": [
    "# The categories seem to show large differences of opinion between the groups.\n",
    "# • Are these differences significant?\n",
    "# • How many degrees of freedom does the resulting analysis have? \n",
    "\n",
    "freqs = np.array([4, 6, 14, 10, 16])\n",
    "V, p = stats.chisquare(freqs)\n",
    "print(f\"p= {p:.2f} which is less than 0.05, so the differences are statistically significant.\")\n",
    "print(f\"Resulting analysis has {len(freqs) - 1} dof.\")"
   ]
  },
  {
   "cell_type": "code",
   "execution_count": 40,
   "metadata": {},
   "outputs": [
    {
     "data": {
      "text/plain": [
       "0.03420269940871678"
      ]
     },
     "execution_count": 40,
     "metadata": {},
     "output_type": "execute_result"
    }
   ],
   "source": [
    "# 9.4 McNemar’s Test\n",
    "\n",
    "# In a lawsuit regarding a murder the defense uses a questionnaire to show that the\n",
    "# defendant is insane. As a result of the questionnaire, the accused claims “not guilty\n",
    "# by reason of insanity.”\n",
    "\n",
    "# In reply, the state attorney wants to show that the questionnaire does not work.\n",
    "# He hires an experienced neurologist, and presents him with 40 patients, 20 of whom\n",
    "# have completed the questionnaire with an “insane” result, and 20 with a “sane”\n",
    "# result. When examined by the neurologist, the result is mixed: 19 of the “sane”\n",
    "# people are found sane, but 6 of the 20 “insane” people are labeled as sane by the\n",
    "# expert."
   ]
  },
  {
   "attachments": {},
   "cell_type": "markdown",
   "metadata": {},
   "source": [
    "|        | Sane by expert | Insane by expert | Total |\n",
    "|--------|----------------|------------------|-------|\n",
    "| Sane   | 19             | 1                | 20    |\n",
    "| Insane | 6              | 14               | 20    |\n",
    "| Total  | 22             | 18               | 40    |"
   ]
  },
  {
   "cell_type": "code",
   "execution_count": 50,
   "metadata": {},
   "outputs": [
    {
     "name": "stdout",
     "output_type": "stream",
     "text": [
      "p = 0.12 and p_correct = 0.03\n"
     ]
    },
    {
     "name": "stderr",
     "output_type": "stream",
     "text": [
      "c:\\Users\\rich\\miniconda3\\envs\\pydata-book\\lib\\site-packages\\statsmodels\\sandbox\\stats\\runs.py:542: FutureWarning: Deprecated, use stats.TableSymmetry instead\n",
      "  warnings.warn(\"Deprecated, use stats.TableSymmetry instead\", FutureWarning)\n"
     ]
    }
   ],
   "source": [
    "# Is this result significantly different from the questionnaire? \n",
    "# Would the result be significantly different, if the expert had diagnosed all “sane”\n",
    "# people correctly? \n",
    "\n",
    "# The McNemar test examines the difference between the proportions that derive from the marginal sums\n",
    "# of the table, i.e. (a + b) / N and (a + c) / N.\n",
    "\n",
    "obs = [[19, 1], [6, 14]]\n",
    "obs_correct = [[20, 0], [6, 14]]\n",
    "\n",
    "_, p = mcnemar(obs)\n",
    "_, p_correct = mcnemar(obs_correct)\n",
    "print(f\"p = {p:.2f} and p_correct = {p_correct:.2f}\")"
   ]
  },
  {
   "cell_type": "code",
   "execution_count": null,
   "metadata": {},
   "outputs": [],
   "source": []
  }
 ],
 "metadata": {
  "kernelspec": {
   "display_name": "pydata-book",
   "language": "python",
   "name": "python3"
  },
  "language_info": {
   "codemirror_mode": {
    "name": "ipython",
    "version": 3
   },
   "file_extension": ".py",
   "mimetype": "text/x-python",
   "name": "python",
   "nbconvert_exporter": "python",
   "pygments_lexer": "ipython3",
   "version": "3.10.10"
  },
  "orig_nbformat": 4
 },
 "nbformat": 4,
 "nbformat_minor": 2
}
